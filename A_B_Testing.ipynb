{
 "cells": [
  {
   "cell_type": "markdown",
   "id": "a9cc93ce-40b6-4898-8aa0-4c7ddb619ccc",
   "metadata": {},
   "source": [
    "# A/B Test #3"
   ]
  },
  {
   "cell_type": "code",
   "execution_count": 1,
   "id": "ab7930aa-01e6-4aa1-a4b4-d1ba1da0a56a",
   "metadata": {},
   "outputs": [],
   "source": [
    "import numpy as np\n",
    "import pandas as pd\n",
    "import statsmodels.api as sm\n",
    "import matplotlib.pyplot as plt\n",
    "import seaborn as sns\n",
    "sns.set()"
   ]
  },
  {
   "cell_type": "code",
   "execution_count": 4,
   "id": "6c2e4825-e7f6-4e64-a5d4-ee815e42a1d0",
   "metadata": {},
   "outputs": [
    {
     "data": {
      "text/html": [
       "<div>\n",
       "<style scoped>\n",
       "    .dataframe tbody tr th:only-of-type {\n",
       "        vertical-align: middle;\n",
       "    }\n",
       "\n",
       "    .dataframe tbody tr th {\n",
       "        vertical-align: top;\n",
       "    }\n",
       "\n",
       "    .dataframe thead th {\n",
       "        text-align: right;\n",
       "    }\n",
       "</style>\n",
       "<table border=\"1\" class=\"dataframe\">\n",
       "  <thead>\n",
       "    <tr style=\"text-align: right;\">\n",
       "      <th></th>\n",
       "      <th>treatment</th>\n",
       "      <th>pageviews</th>\n",
       "      <th>calls</th>\n",
       "      <th>reservations</th>\n",
       "      <th>business_id</th>\n",
       "      <th>restaurant_type</th>\n",
       "    </tr>\n",
       "  </thead>\n",
       "  <tbody>\n",
       "    <tr>\n",
       "      <th>0</th>\n",
       "      <td>0</td>\n",
       "      <td>643</td>\n",
       "      <td>44</td>\n",
       "      <td>39</td>\n",
       "      <td>1</td>\n",
       "      <td>chain</td>\n",
       "    </tr>\n",
       "    <tr>\n",
       "      <th>1</th>\n",
       "      <td>0</td>\n",
       "      <td>621</td>\n",
       "      <td>41</td>\n",
       "      <td>44</td>\n",
       "      <td>2</td>\n",
       "      <td>chain</td>\n",
       "    </tr>\n",
       "    <tr>\n",
       "      <th>2</th>\n",
       "      <td>0</td>\n",
       "      <td>581</td>\n",
       "      <td>40</td>\n",
       "      <td>38</td>\n",
       "      <td>3</td>\n",
       "      <td>chain</td>\n",
       "    </tr>\n",
       "    <tr>\n",
       "      <th>3</th>\n",
       "      <td>0</td>\n",
       "      <td>592</td>\n",
       "      <td>35</td>\n",
       "      <td>31</td>\n",
       "      <td>4</td>\n",
       "      <td>chain</td>\n",
       "    </tr>\n",
       "    <tr>\n",
       "      <th>4</th>\n",
       "      <td>0</td>\n",
       "      <td>648</td>\n",
       "      <td>45</td>\n",
       "      <td>46</td>\n",
       "      <td>5</td>\n",
       "      <td>chain</td>\n",
       "    </tr>\n",
       "  </tbody>\n",
       "</table>\n",
       "</div>"
      ],
      "text/plain": [
       "   treatment  pageviews  calls  reservations  business_id restaurant_type\n",
       "0          0        643     44            39            1           chain\n",
       "1          0        621     41            44            2           chain\n",
       "2          0        581     40            38            3           chain\n",
       "3          0        592     35            31            4           chain\n",
       "4          0        648     45            46            5           chain"
      ]
     },
     "execution_count": 4,
     "metadata": {},
     "output_type": "execute_result"
    }
   ],
   "source": [
    "df = pd.read_excel('Downloads/916702-XLS-ENG.xlsx', sheet_name='ads_analysis%202_1fd2e6d3-bf38-')\n",
    "df.head()"
   ]
  },
  {
   "cell_type": "code",
   "execution_count": 5,
   "id": "2357f1fb-089e-4dc9-a39a-10a2d7b317e7",
   "metadata": {},
   "outputs": [
    {
     "data": {
      "text/plain": [
       "treatment           int64\n",
       "pageviews           int64\n",
       "calls               int64\n",
       "reservations        int64\n",
       "business_id         int64\n",
       "restaurant_type    object\n",
       "dtype: object"
      ]
     },
     "execution_count": 5,
     "metadata": {},
     "output_type": "execute_result"
    }
   ],
   "source": [
    "df.dtypes"
   ]
  },
  {
   "cell_type": "code",
   "execution_count": 7,
   "id": "f3ebf4d0-4cc8-4fea-8366-aa1c36c9b00c",
   "metadata": {},
   "outputs": [
    {
     "data": {
      "text/plain": [
       "0"
      ]
     },
     "execution_count": 7,
     "metadata": {},
     "output_type": "execute_result"
    }
   ],
   "source": [
    "# checl for dups\n",
    "df['business_id'].duplicated().sum()"
   ]
  },
  {
   "cell_type": "code",
   "execution_count": 9,
   "id": "06be3829-6d8d-451f-9efe-197dca6b39fe",
   "metadata": {},
   "outputs": [
    {
     "data": {
      "text/plain": [
       "restaurant_type\n",
       "chain          660.179667\n",
       "independent    339.980889\n",
       "Name: pageviews, dtype: float64"
      ]
     },
     "execution_count": 9,
     "metadata": {},
     "output_type": "execute_result"
    }
   ],
   "source": [
    "df['pageviews'].groupby(df['restaurant_type']).mean()"
   ]
  },
  {
   "cell_type": "code",
   "execution_count": 10,
   "id": "97c8a9f5-99fb-4636-a563-31a67a17bbbe",
   "metadata": {},
   "outputs": [
    {
     "data": {
      "text/plain": [
       "treatment\n",
       "0    419.7794\n",
       "1    501.1908\n",
       "2    483.2110\n",
       "Name: pageviews, dtype: float64"
      ]
     },
     "execution_count": 10,
     "metadata": {},
     "output_type": "execute_result"
    }
   ],
   "source": [
    "df['pageviews'].groupby(df['treatment']).mean()"
   ]
  },
  {
   "cell_type": "code",
   "execution_count": 11,
   "id": "326eadbf-e40a-47c4-9d4b-3a7f5803db44",
   "metadata": {},
   "outputs": [
    {
     "data": {
      "text/plain": [
       "treatment\n",
       "0    34.0196\n",
       "1    37.3885\n",
       "2    41.7145\n",
       "Name: calls, dtype: float64"
      ]
     },
     "execution_count": 11,
     "metadata": {},
     "output_type": "execute_result"
    }
   ],
   "source": [
    "df['calls'].groupby(df['treatment']).mean()"
   ]
  },
  {
   "cell_type": "code",
   "execution_count": 12,
   "id": "252f46d3-d94b-48ef-bfd0-7f627fe6d513",
   "metadata": {},
   "outputs": [
    {
     "data": {
      "text/plain": [
       "treatment\n",
       "0    33.9604\n",
       "1    34.0212\n",
       "2    41.6805\n",
       "Name: reservations, dtype: float64"
      ]
     },
     "execution_count": 12,
     "metadata": {},
     "output_type": "execute_result"
    }
   ],
   "source": [
    "df['reservations'].groupby(df['treatment']).mean()"
   ]
  },
  {
   "cell_type": "markdown",
   "id": "866cf6dc-a317-4b54-9231-f0791b149bef",
   "metadata": {},
   "source": [
    "### Statistical Tests"
   ]
  },
  {
   "cell_type": "code",
   "execution_count": 20,
   "id": "e6ee489a-9fd9-44ae-921b-92901a8295dc",
   "metadata": {},
   "outputs": [],
   "source": [
    "from scipy.stats import shapiro, levene, ttest_ind, mannwhitneyu"
   ]
  },
  {
   "cell_type": "code",
   "execution_count": 45,
   "id": "91fbe580-827f-43e0-abf7-a5ea76d45d79",
   "metadata": {},
   "outputs": [
    {
     "data": {
      "text/plain": [
       "treatment\n",
       "0    419.7794\n",
       "1    501.1908\n",
       "2    483.2110\n",
       "Name: pageviews, dtype: float64"
      ]
     },
     "execution_count": 45,
     "metadata": {},
     "output_type": "execute_result"
    }
   ],
   "source": [
    "df['pageviews'].groupby(df['treatment']).mean()"
   ]
  },
  {
   "cell_type": "code",
   "execution_count": 34,
   "id": "4dd0a348-f099-4269-8211-a51cad739e2b",
   "metadata": {},
   "outputs": [
    {
     "name": "stdout",
     "output_type": "stream",
     "text": [
      "Shapiro-Wilk test for normality (control group - 0): p-value = 0.0\n",
      "Shapiro-Wilk test for normality (1st ad group - 1): p-value = 0.0\n",
      "Shapiro-Wilk test for normality (2nd ad group - 2): p-value = 0.0\n",
      "Levene's test for equality of variances: p-value = 1.3878167549631816e-25\n"
     ]
    },
    {
     "name": "stderr",
     "output_type": "stream",
     "text": [
      "C:\\Users\\abdul\\anaconda3\\envs\\ISLP\\Lib\\site-packages\\scipy\\stats\\_morestats.py:1882: UserWarning: p-value may not be accurate for N > 5000.\n",
      "  warnings.warn(\"p-value may not be accurate for N > 5000.\")\n"
     ]
    }
   ],
   "source": [
    "# Step 1: Check Assumptions\n",
    "# Normality assumption\n",
    "shapiro_stat_0, shapiro_p_value_0 = shapiro(df[df['treatment'] == 0]['pageviews'])\n",
    "shapiro_stat_1, shapiro_p_value_1 = shapiro(df[df['treatment'] == 1]['pageviews'])\n",
    "shapiro_stat_2, shapiro_p_value_2 = shapiro(df[df['treatment'] == 2]['pageviews'])\n",
    "\n",
    "print(f\"Shapiro-Wilk test for normality (control group - 0): p-value = {shapiro_p_value_0}\")\n",
    "print(f\"Shapiro-Wilk test for normality (1st ad group - 1): p-value = {shapiro_p_value_1}\")\n",
    "print(f\"Shapiro-Wilk test for normality (2nd ad group - 2): p-value = {shapiro_p_value_2}\")\n",
    "\n",
    "# Equality of variances assumption\n",
    "levene_stat, levene_p_value = levene(df[df['treatment'] == 0]['pageviews'], df[df['treatment'] == 1]['pageviews'], df[df['treatment'] == 2]['pageviews'])\n",
    "print(f\"Levene's test for equality of variances: p-value = {levene_p_value}\")"
   ]
  },
  {
   "cell_type": "markdown",
   "id": "cac2194e-e5e1-47d0-ba30-27bc0828355e",
   "metadata": {},
   "source": [
    "the variable is not normally distributed, thus we cannot use the T-test"
   ]
  },
  {
   "cell_type": "code",
   "execution_count": 28,
   "id": "e10e05d4-3224-4d9d-8143-520ed975f9ca",
   "metadata": {},
   "outputs": [
    {
     "name": "stdout",
     "output_type": "stream",
     "text": [
      "Mann-Whitney U test for treatment 0 vs 1: p-value = 0.0\n",
      "Mann-Whitney U test for treatment 0 vs 2: p-value = 0.0\n",
      "Mann-Whitney U test for treatment 1 vs 2: p-value = 1.7406085543278967e-62\n"
     ]
    }
   ],
   "source": [
    "# Step 2: Perform a Suitable Test\n",
    "alpha = 0.05\n",
    "if shapiro_p_value_0 > alpha and shapiro_p_value_1 > alpha and shapiro_p_value_2 > alpha and levene_p_value > alpha:\n",
    "    # Assumptions met - use t-test for means between all treatment pairs\n",
    "    t_stat_01, t_p_value_01 = ttest_ind(df[df['treatment'] == 0]['pageviews'], df[df['treatment'] == 1]['pageviews'])\n",
    "    t_stat_02, t_p_value_02 = ttest_ind(df[df['treatment'] == 0]['pageviews'], df[df['treatment'] == 2]['pageviews'])\n",
    "    t_stat_12, t_p_value_12 = ttest_ind(df[df['treatment'] == 1]['pageviews'], df[df['treatment'] == 2]['pageviews'])\n",
    "\n",
    "    print(f\"Independent two-sample t-test for treatment 0 vs 1: p-value = {t_p_value_01}\")\n",
    "    print(f\"Independent two-sample t-test for treatment 0 vs 2: p-value = {t_p_value_02}\")\n",
    "    print(f\"Independent two-sample t-test for treatment 1 vs 2: p-value = {t_p_value_12}\")\n",
    "else:\n",
    "    # Assumptions not met - use Mann-Whitney U test for medians between all treatment pairs\n",
    "    u_stat_01, u_p_value_01 = mannwhitneyu(df[df['treatment'] == 0]['pageviews'], df[df['treatment'] == 1]['pageviews'])\n",
    "    u_stat_02, u_p_value_02 = mannwhitneyu(df[df['treatment'] == 0]['pageviews'], df[df['treatment'] == 2]['pageviews'])\n",
    "    u_stat_12, u_p_value_12 = mannwhitneyu(df[df['treatment'] == 1]['pageviews'], df[df['treatment'] == 2]['pageviews'])\n",
    "\n",
    "    print(f\"Mann-Whitney U test for treatment 0 vs 1: p-value = {u_p_value_01}\")\n",
    "    print(f\"Mann-Whitney U test for treatment 0 vs 2: p-value = {u_p_value_02}\")\n",
    "    print(f\"Mann-Whitney U test for treatment 1 vs 2: p-value = {u_p_value_12}\")"
   ]
  },
  {
   "cell_type": "code",
   "execution_count": null,
   "id": "0cae83eb-e116-46d5-9b62-2e7e5879d188",
   "metadata": {},
   "outputs": [],
   "source": []
  },
  {
   "cell_type": "code",
   "execution_count": 26,
   "id": "5a2aa28a-9d09-401b-a282-572ae2cbf584",
   "metadata": {},
   "outputs": [
    {
     "data": {
      "text/html": [
       "<div>\n",
       "<style scoped>\n",
       "    .dataframe tbody tr th:only-of-type {\n",
       "        vertical-align: middle;\n",
       "    }\n",
       "\n",
       "    .dataframe tbody tr th {\n",
       "        vertical-align: top;\n",
       "    }\n",
       "\n",
       "    .dataframe thead th {\n",
       "        text-align: right;\n",
       "    }\n",
       "</style>\n",
       "<table border=\"1\" class=\"dataframe\">\n",
       "  <thead>\n",
       "    <tr style=\"text-align: right;\">\n",
       "      <th></th>\n",
       "      <th>treatment</th>\n",
       "      <th>pageviews</th>\n",
       "      <th>calls</th>\n",
       "      <th>reservations</th>\n",
       "      <th>business_id</th>\n",
       "      <th>restaurant_type</th>\n",
       "    </tr>\n",
       "  </thead>\n",
       "  <tbody>\n",
       "    <tr>\n",
       "      <th>0</th>\n",
       "      <td>0</td>\n",
       "      <td>643</td>\n",
       "      <td>44</td>\n",
       "      <td>39</td>\n",
       "      <td>1</td>\n",
       "      <td>chain</td>\n",
       "    </tr>\n",
       "    <tr>\n",
       "      <th>1</th>\n",
       "      <td>0</td>\n",
       "      <td>621</td>\n",
       "      <td>41</td>\n",
       "      <td>44</td>\n",
       "      <td>2</td>\n",
       "      <td>chain</td>\n",
       "    </tr>\n",
       "    <tr>\n",
       "      <th>2</th>\n",
       "      <td>0</td>\n",
       "      <td>581</td>\n",
       "      <td>40</td>\n",
       "      <td>38</td>\n",
       "      <td>3</td>\n",
       "      <td>chain</td>\n",
       "    </tr>\n",
       "    <tr>\n",
       "      <th>3</th>\n",
       "      <td>0</td>\n",
       "      <td>592</td>\n",
       "      <td>35</td>\n",
       "      <td>31</td>\n",
       "      <td>4</td>\n",
       "      <td>chain</td>\n",
       "    </tr>\n",
       "    <tr>\n",
       "      <th>4</th>\n",
       "      <td>0</td>\n",
       "      <td>648</td>\n",
       "      <td>45</td>\n",
       "      <td>46</td>\n",
       "      <td>5</td>\n",
       "      <td>chain</td>\n",
       "    </tr>\n",
       "  </tbody>\n",
       "</table>\n",
       "</div>"
      ],
      "text/plain": [
       "   treatment  pageviews  calls  reservations  business_id restaurant_type\n",
       "0          0        643     44            39            1           chain\n",
       "1          0        621     41            44            2           chain\n",
       "2          0        581     40            38            3           chain\n",
       "3          0        592     35            31            4           chain\n",
       "4          0        648     45            46            5           chain"
      ]
     },
     "execution_count": 26,
     "metadata": {},
     "output_type": "execute_result"
    }
   ],
   "source": [
    "df.head()"
   ]
  },
  {
   "cell_type": "code",
   "execution_count": 43,
   "id": "1068c564-f5b7-45bf-ae02-28599da9737d",
   "metadata": {},
   "outputs": [
    {
     "data": {
      "text/plain": [
       "treatment\n",
       "0    34.0196\n",
       "1    37.3885\n",
       "2    41.7145\n",
       "Name: calls, dtype: float64"
      ]
     },
     "execution_count": 43,
     "metadata": {},
     "output_type": "execute_result"
    }
   ],
   "source": [
    "df['calls'].groupby(df['treatment']).mean()"
   ]
  },
  {
   "cell_type": "code",
   "execution_count": 35,
   "id": "6f7de0db-8ef4-41f2-95f8-279b5637cdf6",
   "metadata": {},
   "outputs": [
    {
     "name": "stdout",
     "output_type": "stream",
     "text": [
      "Shapiro-Wilk test for normality (control group - 0): p-value = 2.6618201728932008e-34\n",
      "Shapiro-Wilk test for normality (1st ad group - 1): p-value = 6.014846176926773e-35\n",
      "Shapiro-Wilk test for normality (2nd ad group - 2): p-value = 0.0\n",
      "Levene's test for equality of variances: p-value = 5.332043723768382e-35\n"
     ]
    },
    {
     "name": "stderr",
     "output_type": "stream",
     "text": [
      "C:\\Users\\abdul\\anaconda3\\envs\\ISLP\\Lib\\site-packages\\scipy\\stats\\_morestats.py:1882: UserWarning: p-value may not be accurate for N > 5000.\n",
      "  warnings.warn(\"p-value may not be accurate for N > 5000.\")\n"
     ]
    }
   ],
   "source": [
    "# Step 1: Check Assumptions\n",
    "# Normality assumption\n",
    "shapiro_stat_0, shapiro_p_value_0 = shapiro(df[df['treatment'] == 0]['calls'])\n",
    "shapiro_stat_1, shapiro_p_value_1 = shapiro(df[df['treatment'] == 1]['calls'])\n",
    "shapiro_stat_2, shapiro_p_value_2 = shapiro(df[df['treatment'] == 2]['calls'])\n",
    "\n",
    "print(f\"Shapiro-Wilk test for normality (control group - 0): p-value = {shapiro_p_value_0}\")\n",
    "print(f\"Shapiro-Wilk test for normality (1st ad group - 1): p-value = {shapiro_p_value_1}\")\n",
    "print(f\"Shapiro-Wilk test for normality (2nd ad group - 2): p-value = {shapiro_p_value_2}\")\n",
    "\n",
    "# Equality of variances assumption\n",
    "levene_stat, levene_p_value = levene(df[df['treatment'] == 0]['calls'], df[df['treatment'] == 1]['calls'], df[df['treatment'] == 2]['calls'])\n",
    "print(f\"Levene's test for equality of variances: p-value = {levene_p_value}\")"
   ]
  },
  {
   "cell_type": "markdown",
   "id": "f5e9c639-3df8-4300-bc9c-d9f63c52310c",
   "metadata": {},
   "source": [
    "the variable is not normally distributed, thus we cannot use the T-test"
   ]
  },
  {
   "cell_type": "code",
   "execution_count": 44,
   "id": "295167ae-e21b-4a42-8a5e-5c01151f5cf0",
   "metadata": {},
   "outputs": [
    {
     "name": "stdout",
     "output_type": "stream",
     "text": [
      "Mann-Whitney U test for treatment 0 vs 1: p-value = 3.951413462615891e-233\n",
      "Mann-Whitney U test for treatment 0 vs 2: p-value = 0.0\n",
      "Mann-Whitney U test for treatment 1 vs 2: p-value = 1.7119092054491197e-293\n"
     ]
    }
   ],
   "source": [
    "# Step 2: Perform a Suitable Test\n",
    "if shapiro_p_value_0 > alpha and shapiro_p_value_1 > alpha and shapiro_p_value_2 > alpha and levene_p_value > alpha:\n",
    "# Assumptions met - use t-test for means between all treatment pairs\n",
    "    t_stat_01, t_p_value_01 = ttest_ind(df[df['treatment'] == 0]['calls'], df[df['treatment'] == 1]['calls'])\n",
    "    t_stat_02, t_p_value_02 = ttest_ind(df[df['treatment'] == 0]['calls'], df[df['treatment'] == 2]['calls'])\n",
    "    t_stat_12, t_p_value_12 = ttest_ind(df[df['treatment'] == 1]['calls'], df[df['treatment'] == 2]['calls'])\n",
    "\n",
    "    print(f\"Independent two-sample t-test for treatment 0 vs 1: p-value = {t_p_value_01}\")\n",
    "    print(f\"Independent two-sample t-test for treatment 0 vs 2: p-value = {t_p_value_02}\")\n",
    "    print(f\"Independent two-sample t-test for treatment 1 vs 2: p-value = {t_p_value_12}\")\n",
    "else:\n",
    "    # Assumptions not met - use Mann-Whitney U test for medians between all treatment pairs\n",
    "    u_stat_01, u_p_value_01 = mannwhitneyu(df[df['treatment'] == 0]['calls'], df[df['treatment'] == 1]['calls'])\n",
    "    u_stat_02, u_p_value_02 = mannwhitneyu(df[df['treatment'] == 0]['calls'], df[df['treatment'] == 2]['calls'])\n",
    "    u_stat_12, u_p_value_12 = mannwhitneyu(df[df['treatment'] == 1]['calls'], df[df['treatment'] == 2]['calls'])\n",
    "\n",
    "    print(f\"Mann-Whitney U test for treatment 0 vs 1: p-value = {u_p_value_01}\")\n",
    "    print(f\"Mann-Whitney U test for treatment 0 vs 2: p-value = {u_p_value_02}\")\n",
    "    print(f\"Mann-Whitney U test for treatment 1 vs 2: p-value = {u_p_value_12}\")"
   ]
  },
  {
   "cell_type": "code",
   "execution_count": null,
   "id": "1fcf2981-8f64-44c7-8ac3-feb6a46542ac",
   "metadata": {},
   "outputs": [],
   "source": []
  },
  {
   "cell_type": "code",
   "execution_count": null,
   "id": "ee1ef68f-4445-46b9-beca-26a4623440e0",
   "metadata": {},
   "outputs": [],
   "source": []
  },
  {
   "cell_type": "code",
   "execution_count": 41,
   "id": "b6741fbb-2be2-468f-a747-bec752fbb4b2",
   "metadata": {
    "scrolled": true
   },
   "outputs": [
    {
     "data": {
      "text/plain": [
       "treatment\n",
       "0    33.9604\n",
       "1    34.0212\n",
       "2    41.6805\n",
       "Name: reservations, dtype: float64"
      ]
     },
     "execution_count": 41,
     "metadata": {},
     "output_type": "execute_result"
    }
   ],
   "source": [
    "df['reservations'].groupby(df['treatment']).mean()"
   ]
  },
  {
   "cell_type": "code",
   "execution_count": 37,
   "id": "1bd1a9ee-35b2-4320-b1c3-0918133c2ee6",
   "metadata": {},
   "outputs": [
    {
     "name": "stdout",
     "output_type": "stream",
     "text": [
      "Shapiro-Wilk test for normality (control group - 0): p-value = 1.6540165197004436e-34\n",
      "Shapiro-Wilk test for normality (1st ad group - 1): p-value = 9.684373686948811e-42\n",
      "Shapiro-Wilk test for normality (2nd ad group - 2): p-value = 0.0\n",
      "Levene's test for equality of variances: p-value = 8.658925249717472e-59\n"
     ]
    }
   ],
   "source": [
    "# Step 1: Check Assumptions\n",
    "# Normality assumption\n",
    "shapiro_stat_0, shapiro_p_value_0 = shapiro(df[df['treatment'] == 0]['reservations'])\n",
    "shapiro_stat_1, shapiro_p_value_1 = shapiro(df[df['treatment'] == 1]['reservations'])\n",
    "shapiro_stat_2, shapiro_p_value_2 = shapiro(df[df['treatment'] == 2]['reservations'])\n",
    "\n",
    "print(f\"Shapiro-Wilk test for normality (control group - 0): p-value = {shapiro_p_value_0}\")\n",
    "print(f\"Shapiro-Wilk test for normality (1st ad group - 1): p-value = {shapiro_p_value_1}\")\n",
    "print(f\"Shapiro-Wilk test for normality (2nd ad group - 2): p-value = {shapiro_p_value_2}\")\n",
    "\n",
    "# Equality of variances assumption\n",
    "levene_stat, levene_p_value = levene(df[df['treatment'] == 0]['reservations'], df[df['treatment'] == 1]['reservations'], df[df['treatment'] == 2]['reservations'])\n",
    "print(f\"Levene's test for equality of variances: p-value = {levene_p_value}\")"
   ]
  },
  {
   "cell_type": "code",
   "execution_count": 38,
   "id": "b20ed821-16a1-4f8e-acfc-78dd22d4473f",
   "metadata": {},
   "outputs": [
    {
     "name": "stdout",
     "output_type": "stream",
     "text": [
      "Mann-Whitney U test for treatment 0 vs 1: p-value = 0.9499822319289795\n",
      "Mann-Whitney U test for treatment 0 vs 2: p-value = 0.0\n",
      "Mann-Whitney U test for treatment 1 vs 2: p-value = 0.0\n"
     ]
    }
   ],
   "source": [
    "# Step 2: Perform a Suitable Test\n",
    "if shapiro_p_value_0 > alpha and shapiro_p_value_1 > alpha and shapiro_p_value_2 > alpha and levene_p_value > alpha:\n",
    "# Assumptions met - use t-test for means between all treatment pairs\n",
    "    t_stat_01, t_p_value_01 = ttest_ind(df[df['treatment'] == 0]['reservations'], df[df['treatment'] == 1]['reservations'])\n",
    "    t_stat_02, t_p_value_02 = ttest_ind(df[df['treatment'] == 0]['reservations'], df[df['treatment'] == 2]['reservations'])\n",
    "    t_stat_12, t_p_value_12 = ttest_ind(df[df['treatment'] == 1]['reservations'], df[df['treatment'] == 2]['reservations'])\n",
    "\n",
    "    print(f\"Independent two-sample t-test for treatment 0 vs 1: p-value = {t_p_value_01}\")\n",
    "    print(f\"Independent two-sample t-test for treatment 0 vs 2: p-value = {t_p_value_02}\")\n",
    "    print(f\"Independent two-sample t-test for treatment 1 vs 2: p-value = {t_p_value_12}\")\n",
    "else:\n",
    "    # Assumptions not met - use Mann-Whitney U test for medians between all treatment pairs\n",
    "    u_stat_01, u_p_value_01 = mannwhitneyu(df[df['treatment'] == 0]['reservations'], df[df['treatment'] == 1]['reservations'])\n",
    "    u_stat_02, u_p_value_02 = mannwhitneyu(df[df['treatment'] == 0]['reservations'], df[df['treatment'] == 2]['reservations'])\n",
    "    u_stat_12, u_p_value_12 = mannwhitneyu(df[df['treatment'] == 1]['reservations'], df[df['treatment'] == 2]['reservations'])\n",
    "\n",
    "    print(f\"Mann-Whitney U test for treatment 0 vs 1: p-value = {u_p_value_01}\")\n",
    "    print(f\"Mann-Whitney U test for treatment 0 vs 2: p-value = {u_p_value_02}\")\n",
    "    print(f\"Mann-Whitney U test for treatment 1 vs 2: p-value = {u_p_value_12}\")"
   ]
  },
  {
   "cell_type": "code",
   "execution_count": null,
   "id": "e2efd3a5-12b2-4c70-b7ab-bd1a43e7b5ba",
   "metadata": {},
   "outputs": [],
   "source": []
  },
  {
   "cell_type": "code",
   "execution_count": 47,
   "id": "85dca602-a9fc-43af-879c-b11e0aff8a1d",
   "metadata": {},
   "outputs": [
    {
     "data": {
      "image/png": "[encoded data removed]",
      "text/plain": [
       "<Figure size 1800x1200 with 3 Axes>"
      ]
     },
     "metadata": {},
     "output_type": "display_data"
    }
   ],
   "source": [
    "# Box plots for multiple variables grouped by treatment\n",
    "plt.figure(figsize=(18, 12))\n",
    "plt.subplot(1, 3, 1)\n",
    "sns.boxplot(x='treatment', y='pageviews', data=df)\n",
    "plt.title('Box Plot of Pageviews by Treatment')\n",
    "\n",
    "plt.subplot(1, 3, 2)\n",
    "sns.boxplot(x='treatment', y='calls', data=df)\n",
    "plt.title('Box Plot of Calls by Treatment')\n",
    "\n",
    "plt.subplot(1, 3, 3)\n",
    "sns.boxplot(x='treatment', y='reservations', data=df)\n",
    "plt.title('Box Plot of Reservations by Treatment')\n",
    "\n",
    "plt.tight_layout()\n",
    "plt.show()"
   ]
  },
  {
   "cell_type": "code",
   "execution_count": null,
   "id": "780e849a-851f-44f0-96d9-3e6d20617359",
   "metadata": {},
   "outputs": [],
   "source": []
  },
  {
   "cell_type": "code",
   "execution_count": null,
   "id": "b9f51c25-f633-4b61-9c14-cb8e51a213ec",
   "metadata": {},
   "outputs": [],
   "source": []
  },
  {
   "cell_type": "code",
   "execution_count": 51,
   "id": "409fac82-e0c0-4a4b-b7b4-7053969dacc3",
   "metadata": {},
   "outputs": [
    {
     "data": {
      "text/html": [
       "<div>\n",
       "<style scoped>\n",
       "    .dataframe tbody tr th:only-of-type {\n",
       "        vertical-align: middle;\n",
       "    }\n",
       "\n",
       "    .dataframe tbody tr th {\n",
       "        vertical-align: top;\n",
       "    }\n",
       "\n",
       "    .dataframe thead th {\n",
       "        text-align: right;\n",
       "    }\n",
       "</style>\n",
       "<table border=\"1\" class=\"dataframe\">\n",
       "  <thead>\n",
       "    <tr style=\"text-align: right;\">\n",
       "      <th></th>\n",
       "      <th>pageviews</th>\n",
       "      <th>calls</th>\n",
       "      <th>reservations</th>\n",
       "    </tr>\n",
       "  </thead>\n",
       "  <tbody>\n",
       "    <tr>\n",
       "      <th>Control vs Current Ads</th>\n",
       "      <td>1.495271e-280</td>\n",
       "      <td>2.513056e-256</td>\n",
       "      <td>0.511446</td>\n",
       "    </tr>\n",
       "    <tr>\n",
       "      <th>Control vs Alternative Ads</th>\n",
       "      <td>2.553251e-159</td>\n",
       "      <td>0.000000e+00</td>\n",
       "      <td>0.000000</td>\n",
       "    </tr>\n",
       "    <tr>\n",
       "      <th>Current Ads vs Alternative Ads</th>\n",
       "      <td>7.327728e-14</td>\n",
       "      <td>0.000000e+00</td>\n",
       "      <td>0.000000</td>\n",
       "    </tr>\n",
       "  </tbody>\n",
       "</table>\n",
       "</div>"
      ],
      "text/plain": [
       "                                    pageviews          calls  reservations\n",
       "Control vs Current Ads          1.495271e-280  2.513056e-256      0.511446\n",
       "Control vs Alternative Ads      2.553251e-159   0.000000e+00      0.000000\n",
       "Current Ads vs Alternative Ads   7.327728e-14   0.000000e+00      0.000000"
      ]
     },
     "execution_count": 51,
     "metadata": {},
     "output_type": "execute_result"
    }
   ],
   "source": [
    "import scipy.stats as stats\n",
    "\n",
    "# Perform A/B testing for each metric between the treatment groups\n",
    "metrics = ['pageviews', 'calls', 'reservations']\n",
    "\n",
    "# Separate data by treatment group\n",
    "control_group = df[df['treatment'] == 0]\n",
    "current_ads_group = df[df['treatment'] == 1]\n",
    "alternative_ads_group = df[df['treatment'] == 2]\n",
    "\n",
    "# Initialize dictionary to store results\n",
    "ab_test_results = {}\n",
    "\n",
    "# Conduct two-sample t-tests between groups for each metric\n",
    "for metric in metrics:\n",
    "    control_vs_current = stats.ttest_ind(control_group[metric], current_ads_group[metric], equal_var=False)\n",
    "    control_vs_alternative = stats.ttest_ind(control_group[metric], alternative_ads_group[metric], equal_var=False)\n",
    "    current_vs_alternative = stats.ttest_ind(current_ads_group[metric], alternative_ads_group[metric], equal_var=False)\n",
    "\n",
    "    ab_test_results[metric] = {\n",
    "        'Control vs Current Ads': control_vs_current.pvalue,\n",
    "        'Control vs Alternative Ads': control_vs_alternative.pvalue,\n",
    "        'Current Ads vs Alternative Ads': current_vs_alternative.pvalue,\n",
    "    }\n",
    "\n",
    "# Convert results to DataFrame for easier interpretation\n",
    "ab_test_results_df = pd.DataFrame(ab_test_results)\n",
    "\n",
    "ab_test_results_df"
   ]
  },
  {
   "cell_type": "code",
   "execution_count": 57,
   "id": "af0bc642-9669-42b5-9e4e-f004760a98be",
   "metadata": {},
   "outputs": [
    {
     "name": "stdout",
     "output_type": "stream",
     "text": [
      "                                pageviews  calls  reservations\n",
      "Control vs Current Ads                0.0    0.0       0.51145\n",
      "Control vs Alternative Ads            0.0    0.0       0.00000\n",
      "Current Ads vs Alternative Ads        0.0    0.0       0.00000\n"
     ]
    }
   ],
   "source": [
    "print(ab_test_results_df.round(5))"
   ]
  },
  {
   "cell_type": "code",
   "execution_count": null,
   "id": "9eb737a7-f8c6-4c17-a714-322cae091ed1",
   "metadata": {},
   "outputs": [],
   "source": []
  }
 ],
 "metadata": {
  "kernelspec": {
   "display_name": "Python 3 (ipykernel)",
   "language": "python",
   "name": "python3"
  },
  "language_info": {
   "codemirror_mode": {
    "name": "ipython",
    "version": 3
   },
   "file_extension": ".py",
   "mimetype": "text/x-python",
   "name": "python",
   "nbconvert_exporter": "python",
   "pygments_lexer": "ipython3",
   "version": "3.12.4"
  }
 },
 "nbformat": 4,
 "nbformat_minor": 5
}
